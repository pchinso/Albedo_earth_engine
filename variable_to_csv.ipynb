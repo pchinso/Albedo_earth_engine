{
 "cells": [
  {
   "cell_type": "markdown",
   "metadata": {},
   "source": [
    "# Variable Definition and CSV Generation Notebook\n",
    "\n",
    "This notebook demonstrates a process where:\n",
    "1. Each of the initial code cells defines a single variable.\n",
    "2. The final code cell gathers all these variables, creates a pandas DataFrame, and then exports the data to a CSV file named `output.csv`.\n",
    "\n",
    "Make sure to run the cells in order."
   ]
  },
  {
   "cell_type": "code",
   "execution_count": null,
   "metadata": {},
   "outputs": [],
   "source": "!pip install pandas"
  },
  {
   "cell_type": "code",
   "execution_count": null,
   "metadata": {},
   "outputs": [],
   "source": "data_point_alpha = 10"
  },
  {
   "cell_type": "code",
   "execution_count": null,
   "metadata": {},
   "outputs": [],
   "source": "data_point_beta = \"test_value\""
  },
  {
   "cell_type": "code",
   "execution_count": null,
   "metadata": {},
   "outputs": [],
   "source": "data_point_gamma = 3.14"
  },
  {
   "cell_type": "code",
   "execution_count": null,
   "metadata": {},
   "outputs": [],
   "source": [
    "import pandas as pd\n",
    "\n",
    "# Gather the variables.\n",
    "# We are assuming the variables data_point_alpha, data_point_beta, and data_point_gamma\n",
    "# have been defined in previous cells.\n",
    "data_for_csv = {\n",
    "    'alpha_value': [data_point_alpha],\n",
    "    'beta_value': [data_point_beta],\n",
    "    'gamma_value': [data_point_gamma]\n",
    "}\n",
    "\n",
    "# Create a pandas DataFrame\n",
    "df = pd.DataFrame(data_for_csv)\n",
    "\n",
    "# Save the DataFrame to a CSV file\n",
    "csv_file_name = 'output.csv'\n",
    "df.to_csv(csv_file_name, index=False)\n",
    "\n",
    "print(f\"Successfully saved data to {csv_file_name}\")"
   ]
  }
 ],
 "metadata": {
  "kernelspec": {
   "display_name": "Python 3",
   "language": "python",
   "name": "python3"
  },
  "language_info": {
   "codemirror_mode": {
    "name": "ipython",
    "version": 3
   },
   "file_extension": ".py",
   "mimetype": "text/x-python",
   "name": "python",
   "nbconvert_exporter": "python",
   "pygments_lexer": "ipython3",
   "version": "3.11.6"
  }
 },
 "nbformat": 4,
 "nbformat_minor": 5
}
